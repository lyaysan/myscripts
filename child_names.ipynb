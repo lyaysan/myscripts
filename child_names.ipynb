{
 "cells": [
  {
   "cell_type": "code",
   "execution_count": 1,
   "metadata": {
    "collapsed": true
   },
   "outputs": [],
   "source": [
    "import pandas as pd\n",
    "import matplotlib.pyplot as plt\n",
    "import numpy as np\n",
    "%matplotlib inline"
   ]
  },
  {
   "cell_type": "code",
   "execution_count": 2,
   "metadata": {
    "collapsed": true
   },
   "outputs": [],
   "source": [
    "#add proportions into a dataframe table GROUP\n",
    "\n",
    "def add_prop(group):\n",
    "    births = group.numbers.astype(float)\n",
    "    group['prop'] = births/births.sum()\n",
    "    return group"
   ]
  },
  {
   "cell_type": "code",
   "execution_count": 3,
   "metadata": {
    "collapsed": false
   },
   "outputs": [],
   "source": [
    "#read data from https://www.ssa.gov/oact/babynames/limits.html\n",
    "\n",
    "columns = ['name', 'gender', 'numbers']\n",
    "names1880 = pd.read_csv('C:\\\\Users\\\\Dima\\\\Downloads\\\\names\\\\yob1880.txt', names = columns)"
   ]
  },
  {
   "cell_type": "code",
   "execution_count": 4,
   "metadata": {
    "collapsed": false
   },
   "outputs": [
    {
     "data": {
      "text/html": [
       "<div>\n",
       "<table border=\"1\" class=\"dataframe\">\n",
       "  <thead>\n",
       "    <tr style=\"text-align: right;\">\n",
       "      <th></th>\n",
       "      <th>name</th>\n",
       "      <th>gender</th>\n",
       "      <th>numbers</th>\n",
       "    </tr>\n",
       "  </thead>\n",
       "  <tbody>\n",
       "    <tr>\n",
       "      <th>0</th>\n",
       "      <td>Mary</td>\n",
       "      <td>F</td>\n",
       "      <td>7065</td>\n",
       "    </tr>\n",
       "    <tr>\n",
       "      <th>1</th>\n",
       "      <td>Anna</td>\n",
       "      <td>F</td>\n",
       "      <td>2604</td>\n",
       "    </tr>\n",
       "    <tr>\n",
       "      <th>2</th>\n",
       "      <td>Emma</td>\n",
       "      <td>F</td>\n",
       "      <td>2003</td>\n",
       "    </tr>\n",
       "    <tr>\n",
       "      <th>3</th>\n",
       "      <td>Elizabeth</td>\n",
       "      <td>F</td>\n",
       "      <td>1939</td>\n",
       "    </tr>\n",
       "    <tr>\n",
       "      <th>4</th>\n",
       "      <td>Minnie</td>\n",
       "      <td>F</td>\n",
       "      <td>1746</td>\n",
       "    </tr>\n",
       "  </tbody>\n",
       "</table>\n",
       "</div>"
      ],
      "text/plain": [
       "        name gender  numbers\n",
       "0       Mary      F     7065\n",
       "1       Anna      F     2604\n",
       "2       Emma      F     2003\n",
       "3  Elizabeth      F     1939\n",
       "4     Minnie      F     1746"
      ]
     },
     "execution_count": 4,
     "metadata": {},
     "output_type": "execute_result"
    }
   ],
   "source": [
    "names1880.head()"
   ]
  },
  {
   "cell_type": "code",
   "execution_count": 5,
   "metadata": {
    "collapsed": false
   },
   "outputs": [
    {
     "data": {
      "text/plain": [
       "gender\n",
       "F     90992\n",
       "M    110490\n",
       "Name: numbers, dtype: int64"
      ]
     },
     "execution_count": 5,
     "metadata": {},
     "output_type": "execute_result"
    }
   ],
   "source": [
    "names1880.groupby('gender').numbers.sum()"
   ]
  },
  {
   "cell_type": "code",
   "execution_count": 6,
   "metadata": {
    "collapsed": true
   },
   "outputs": [],
   "source": [
    "#concatenate data from all files into single dataframe table\n",
    "\n",
    "years = range(1880,2016)\n",
    "\n",
    "pieces = []\n",
    "\n",
    "for year in years :\n",
    "    path = 'C:\\\\Users\\\\Dima\\\\Downloads\\\\names\\\\yob%d.txt' % year\n",
    "    frame = pd.read_csv(path, names = columns)\n",
    "    \n",
    "    frame ['year'] = year\n",
    "    pieces.append(frame)\n",
    "\n",
    "names = pd.concat(pieces, ignore_index = True)"
   ]
  },
  {
   "cell_type": "code",
   "execution_count": 7,
   "metadata": {
    "collapsed": false
   },
   "outputs": [
    {
     "data": {
      "text/html": [
       "<div>\n",
       "<table border=\"1\" class=\"dataframe\">\n",
       "  <thead>\n",
       "    <tr>\n",
       "      <th></th>\n",
       "      <th colspan=\"2\" halign=\"left\">numbers</th>\n",
       "    </tr>\n",
       "    <tr>\n",
       "      <th>gender</th>\n",
       "      <th>F</th>\n",
       "      <th>M</th>\n",
       "    </tr>\n",
       "    <tr>\n",
       "      <th>year</th>\n",
       "      <th></th>\n",
       "      <th></th>\n",
       "    </tr>\n",
       "  </thead>\n",
       "  <tbody>\n",
       "    <tr>\n",
       "      <th>1880</th>\n",
       "      <td>90992</td>\n",
       "      <td>110490</td>\n",
       "    </tr>\n",
       "    <tr>\n",
       "      <th>1881</th>\n",
       "      <td>91953</td>\n",
       "      <td>100743</td>\n",
       "    </tr>\n",
       "    <tr>\n",
       "      <th>1882</th>\n",
       "      <td>107848</td>\n",
       "      <td>113686</td>\n",
       "    </tr>\n",
       "    <tr>\n",
       "      <th>1883</th>\n",
       "      <td>112318</td>\n",
       "      <td>104627</td>\n",
       "    </tr>\n",
       "    <tr>\n",
       "      <th>1884</th>\n",
       "      <td>129020</td>\n",
       "      <td>114443</td>\n",
       "    </tr>\n",
       "  </tbody>\n",
       "</table>\n",
       "</div>"
      ],
      "text/plain": [
       "       numbers        \n",
       "gender       F       M\n",
       "year                  \n",
       "1880     90992  110490\n",
       "1881     91953  100743\n",
       "1882    107848  113686\n",
       "1883    112318  104627\n",
       "1884    129020  114443"
      ]
     },
     "execution_count": 7,
     "metadata": {},
     "output_type": "execute_result"
    }
   ],
   "source": [
    "#pivot table for chart\n",
    "\n",
    "total_numbers = names.pivot_table(names, index = ['year'], columns = 'gender', aggfunc = sum)\n",
    "total_numbers.head()"
   ]
  },
  {
   "cell_type": "code",
   "execution_count": 8,
   "metadata": {
    "collapsed": false
   },
   "outputs": [
    {
     "data": {
      "image/png": "[encoded data removed]",
      "text/plain": [
       "<matplotlib.figure.Figure at 0x2d50100fd30>"
      ]
     },
     "metadata": {},
     "output_type": "display_data"
    }
   ],
   "source": [
    "#plotting\n",
    "def plotting(data, values, x, y, c_title) :\n",
    "    plt.plot(data, values)\n",
    "    plt.xlabel(x)\n",
    "    plt.ylabel(y)\n",
    "    plt.grid(True)\n",
    "    plt.title(c_title)\n",
    "    plt.show()\n",
    "    \n",
    "plt.plot(years, total_numbers['numbers']['F'], years, total_numbers['numbers']['M'])\n",
    "plt.xlabel('Years')\n",
    "plt.ylabel('Births')\n",
    "plt.grid(True) \n",
    "plt.title('Total Births From 1880 To 2015 By Year and Gender')\n",
    "plt.legend(['F', 'M'])\n",
    "plt.show()"
   ]
  },
  {
   "cell_type": "code",
   "execution_count": 9,
   "metadata": {
    "collapsed": false
   },
   "outputs": [],
   "source": [
    "names = names.groupby(['year', 'gender']).apply(add_prop)"
   ]
  },
  {
   "cell_type": "code",
   "execution_count": 10,
   "metadata": {
    "collapsed": false
   },
   "outputs": [
    {
     "data": {
      "text/html": [
       "<div>\n",
       "<table border=\"1\" class=\"dataframe\">\n",
       "  <thead>\n",
       "    <tr style=\"text-align: right;\">\n",
       "      <th></th>\n",
       "      <th>name</th>\n",
       "      <th>gender</th>\n",
       "      <th>numbers</th>\n",
       "      <th>year</th>\n",
       "      <th>prop</th>\n",
       "    </tr>\n",
       "  </thead>\n",
       "  <tbody>\n",
       "    <tr>\n",
       "      <th>0</th>\n",
       "      <td>Mary</td>\n",
       "      <td>F</td>\n",
       "      <td>7065</td>\n",
       "      <td>1880</td>\n",
       "      <td>0.077644</td>\n",
       "    </tr>\n",
       "    <tr>\n",
       "      <th>1</th>\n",
       "      <td>Anna</td>\n",
       "      <td>F</td>\n",
       "      <td>2604</td>\n",
       "      <td>1880</td>\n",
       "      <td>0.028618</td>\n",
       "    </tr>\n",
       "    <tr>\n",
       "      <th>2</th>\n",
       "      <td>Emma</td>\n",
       "      <td>F</td>\n",
       "      <td>2003</td>\n",
       "      <td>1880</td>\n",
       "      <td>0.022013</td>\n",
       "    </tr>\n",
       "    <tr>\n",
       "      <th>3</th>\n",
       "      <td>Elizabeth</td>\n",
       "      <td>F</td>\n",
       "      <td>1939</td>\n",
       "      <td>1880</td>\n",
       "      <td>0.021310</td>\n",
       "    </tr>\n",
       "    <tr>\n",
       "      <th>4</th>\n",
       "      <td>Minnie</td>\n",
       "      <td>F</td>\n",
       "      <td>1746</td>\n",
       "      <td>1880</td>\n",
       "      <td>0.019189</td>\n",
       "    </tr>\n",
       "  </tbody>\n",
       "</table>\n",
       "</div>"
      ],
      "text/plain": [
       "        name gender  numbers  year      prop\n",
       "0       Mary      F     7065  1880  0.077644\n",
       "1       Anna      F     2604  1880  0.028618\n",
       "2       Emma      F     2003  1880  0.022013\n",
       "3  Elizabeth      F     1939  1880  0.021310\n",
       "4     Minnie      F     1746  1880  0.019189"
      ]
     },
     "execution_count": 10,
     "metadata": {},
     "output_type": "execute_result"
    }
   ],
   "source": [
    "names.head()"
   ]
  },
  {
   "cell_type": "code",
   "execution_count": 11,
   "metadata": {
    "collapsed": false
   },
   "outputs": [
    {
     "data": {
      "text/plain": [
       "True"
      ]
     },
     "execution_count": 11,
     "metadata": {},
     "output_type": "execute_result"
    }
   ],
   "source": [
    "#check sum(prop) = 1 \n",
    "np.allclose(names.groupby(['year','gender']).prop.sum(), 1)"
   ]
  },
  {
   "cell_type": "code",
   "execution_count": 12,
   "metadata": {
    "collapsed": true
   },
   "outputs": [],
   "source": [
    "#collect top 1000 names for each pair (gender, year) for work\n",
    "\n",
    "def get_top1000(group):\n",
    "    return group.sort_values(by = 'numbers', ascending = False)[:1000]"
   ]
  },
  {
   "cell_type": "code",
   "execution_count": 13,
   "metadata": {
    "collapsed": false
   },
   "outputs": [],
   "source": [
    "grouped = names.groupby(['year','gender'])\n",
    "top1000 = grouped.apply(get_top1000)"
   ]
  },
  {
   "cell_type": "code",
   "execution_count": 14,
   "metadata": {
    "collapsed": false
   },
   "outputs": [],
   "source": [
    "#split data to boys-data and gorls-data\n",
    "\n",
    "boys = top1000[top1000.gender == 'M']\n",
    "girls = top1000[top1000.gender == 'F']"
   ]
  },
  {
   "cell_type": "code",
   "execution_count": 15,
   "metadata": {
    "collapsed": false
   },
   "outputs": [
    {
     "data": {
      "text/html": [
       "<div>\n",
       "<table border=\"1\" class=\"dataframe\">\n",
       "  <thead>\n",
       "    <tr>\n",
       "      <th></th>\n",
       "      <th colspan=\"10\" halign=\"left\">numbers</th>\n",
       "      <th>...</th>\n",
       "      <th colspan=\"10\" halign=\"left\">prop</th>\n",
       "    </tr>\n",
       "    <tr>\n",
       "      <th>name</th>\n",
       "      <th>Aaden</th>\n",
       "      <th>Aaliyah</th>\n",
       "      <th>Aanya</th>\n",
       "      <th>Aarav</th>\n",
       "      <th>Aaron</th>\n",
       "      <th>Aarush</th>\n",
       "      <th>Ab</th>\n",
       "      <th>Abagail</th>\n",
       "      <th>Abb</th>\n",
       "      <th>Abbey</th>\n",
       "      <th>...</th>\n",
       "      <th>Zoa</th>\n",
       "      <th>Zoe</th>\n",
       "      <th>Zoey</th>\n",
       "      <th>Zoie</th>\n",
       "      <th>Zola</th>\n",
       "      <th>Zollie</th>\n",
       "      <th>Zona</th>\n",
       "      <th>Zora</th>\n",
       "      <th>Zula</th>\n",
       "      <th>Zuri</th>\n",
       "    </tr>\n",
       "    <tr>\n",
       "      <th>year</th>\n",
       "      <th></th>\n",
       "      <th></th>\n",
       "      <th></th>\n",
       "      <th></th>\n",
       "      <th></th>\n",
       "      <th></th>\n",
       "      <th></th>\n",
       "      <th></th>\n",
       "      <th></th>\n",
       "      <th></th>\n",
       "      <th></th>\n",
       "      <th></th>\n",
       "      <th></th>\n",
       "      <th></th>\n",
       "      <th></th>\n",
       "      <th></th>\n",
       "      <th></th>\n",
       "      <th></th>\n",
       "      <th></th>\n",
       "      <th></th>\n",
       "      <th></th>\n",
       "    </tr>\n",
       "  </thead>\n",
       "  <tbody>\n",
       "    <tr>\n",
       "      <th>1880</th>\n",
       "      <td>NaN</td>\n",
       "      <td>NaN</td>\n",
       "      <td>NaN</td>\n",
       "      <td>NaN</td>\n",
       "      <td>102.0</td>\n",
       "      <td>NaN</td>\n",
       "      <td>NaN</td>\n",
       "      <td>NaN</td>\n",
       "      <td>NaN</td>\n",
       "      <td>NaN</td>\n",
       "      <td>...</td>\n",
       "      <td>0.000088</td>\n",
       "      <td>0.000253</td>\n",
       "      <td>NaN</td>\n",
       "      <td>NaN</td>\n",
       "      <td>0.000077</td>\n",
       "      <td>NaN</td>\n",
       "      <td>0.000088</td>\n",
       "      <td>0.000308</td>\n",
       "      <td>0.000297</td>\n",
       "      <td>NaN</td>\n",
       "    </tr>\n",
       "    <tr>\n",
       "      <th>1881</th>\n",
       "      <td>NaN</td>\n",
       "      <td>NaN</td>\n",
       "      <td>NaN</td>\n",
       "      <td>NaN</td>\n",
       "      <td>94.0</td>\n",
       "      <td>NaN</td>\n",
       "      <td>NaN</td>\n",
       "      <td>NaN</td>\n",
       "      <td>NaN</td>\n",
       "      <td>NaN</td>\n",
       "      <td>...</td>\n",
       "      <td>NaN</td>\n",
       "      <td>0.000239</td>\n",
       "      <td>NaN</td>\n",
       "      <td>NaN</td>\n",
       "      <td>0.000109</td>\n",
       "      <td>NaN</td>\n",
       "      <td>0.000098</td>\n",
       "      <td>0.000228</td>\n",
       "      <td>0.000294</td>\n",
       "      <td>NaN</td>\n",
       "    </tr>\n",
       "    <tr>\n",
       "      <th>1882</th>\n",
       "      <td>NaN</td>\n",
       "      <td>NaN</td>\n",
       "      <td>NaN</td>\n",
       "      <td>NaN</td>\n",
       "      <td>85.0</td>\n",
       "      <td>NaN</td>\n",
       "      <td>NaN</td>\n",
       "      <td>NaN</td>\n",
       "      <td>NaN</td>\n",
       "      <td>NaN</td>\n",
       "      <td>...</td>\n",
       "      <td>0.000074</td>\n",
       "      <td>0.000232</td>\n",
       "      <td>NaN</td>\n",
       "      <td>NaN</td>\n",
       "      <td>0.000083</td>\n",
       "      <td>NaN</td>\n",
       "      <td>0.000158</td>\n",
       "      <td>0.000297</td>\n",
       "      <td>0.000195</td>\n",
       "      <td>NaN</td>\n",
       "    </tr>\n",
       "    <tr>\n",
       "      <th>1883</th>\n",
       "      <td>NaN</td>\n",
       "      <td>NaN</td>\n",
       "      <td>NaN</td>\n",
       "      <td>NaN</td>\n",
       "      <td>105.0</td>\n",
       "      <td>NaN</td>\n",
       "      <td>NaN</td>\n",
       "      <td>NaN</td>\n",
       "      <td>NaN</td>\n",
       "      <td>NaN</td>\n",
       "      <td>...</td>\n",
       "      <td>NaN</td>\n",
       "      <td>0.000205</td>\n",
       "      <td>NaN</td>\n",
       "      <td>NaN</td>\n",
       "      <td>0.000089</td>\n",
       "      <td>NaN</td>\n",
       "      <td>0.000098</td>\n",
       "      <td>0.000312</td>\n",
       "      <td>0.000223</td>\n",
       "      <td>NaN</td>\n",
       "    </tr>\n",
       "    <tr>\n",
       "      <th>1884</th>\n",
       "      <td>NaN</td>\n",
       "      <td>NaN</td>\n",
       "      <td>NaN</td>\n",
       "      <td>NaN</td>\n",
       "      <td>97.0</td>\n",
       "      <td>NaN</td>\n",
       "      <td>NaN</td>\n",
       "      <td>NaN</td>\n",
       "      <td>NaN</td>\n",
       "      <td>NaN</td>\n",
       "      <td>...</td>\n",
       "      <td>0.000101</td>\n",
       "      <td>0.000240</td>\n",
       "      <td>NaN</td>\n",
       "      <td>NaN</td>\n",
       "      <td>0.000109</td>\n",
       "      <td>0.000052</td>\n",
       "      <td>0.000062</td>\n",
       "      <td>0.000450</td>\n",
       "      <td>0.000209</td>\n",
       "      <td>NaN</td>\n",
       "    </tr>\n",
       "  </tbody>\n",
       "</table>\n",
       "<p>5 rows × 14124 columns</p>\n",
       "</div>"
      ],
      "text/plain": [
       "     numbers                                                         ...   \\\n",
       "name   Aaden Aaliyah Aanya Aarav  Aaron Aarush  Ab Abagail Abb Abbey ...    \n",
       "year                                                                 ...    \n",
       "1880     NaN     NaN   NaN   NaN  102.0    NaN NaN     NaN NaN   NaN ...    \n",
       "1881     NaN     NaN   NaN   NaN   94.0    NaN NaN     NaN NaN   NaN ...    \n",
       "1882     NaN     NaN   NaN   NaN   85.0    NaN NaN     NaN NaN   NaN ...    \n",
       "1883     NaN     NaN   NaN   NaN  105.0    NaN NaN     NaN NaN   NaN ...    \n",
       "1884     NaN     NaN   NaN   NaN   97.0    NaN NaN     NaN NaN   NaN ...    \n",
       "\n",
       "          prop                                                              \\\n",
       "name       Zoa       Zoe Zoey Zoie      Zola    Zollie      Zona      Zora   \n",
       "year                                                                         \n",
       "1880  0.000088  0.000253  NaN  NaN  0.000077       NaN  0.000088  0.000308   \n",
       "1881       NaN  0.000239  NaN  NaN  0.000109       NaN  0.000098  0.000228   \n",
       "1882  0.000074  0.000232  NaN  NaN  0.000083       NaN  0.000158  0.000297   \n",
       "1883       NaN  0.000205  NaN  NaN  0.000089       NaN  0.000098  0.000312   \n",
       "1884  0.000101  0.000240  NaN  NaN  0.000109  0.000052  0.000062  0.000450   \n",
       "\n",
       "                     \n",
       "name      Zula Zuri  \n",
       "year                 \n",
       "1880  0.000297  NaN  \n",
       "1881  0.000294  NaN  \n",
       "1882  0.000195  NaN  \n",
       "1883  0.000223  NaN  \n",
       "1884  0.000209  NaN  \n",
       "\n",
       "[5 rows x 14124 columns]"
      ]
     },
     "execution_count": 15,
     "metadata": {},
     "output_type": "execute_result"
    }
   ],
   "source": [
    "#group data for names\n",
    "\n",
    "total_births = top1000.pivot_table(top1000, index = ['year'], columns = 'name', aggfunc = sum)\n",
    "total_births.head()"
   ]
  },
  {
   "cell_type": "code",
   "execution_count": 16,
   "metadata": {
    "collapsed": false
   },
   "outputs": [
    {
     "data": {
      "image/png": "[encoded data removed]",
      "text/plain": [
       "<matplotlib.figure.Figure at 0x2d5010eb160>"
      ]
     },
     "metadata": {},
     "output_type": "display_data"
    }
   ],
   "source": [
    "plotting(years, total_births['numbers']['John'], 'years', 'births', 'Dipper')"
   ]
  },
  {
   "cell_type": "code",
   "execution_count": 17,
   "metadata": {
    "collapsed": false
   },
   "outputs": [
    {
     "data": {
      "image/png": "[encoded data removed]",
      "text/plain": [
       "<matplotlib.figure.Figure at 0x2d501756860>"
      ]
     },
     "metadata": {},
     "output_type": "display_data"
    }
   ],
   "source": [
    "plotting(years, total_births['numbers']['John'], 'years', 'births', 'Mabel')"
   ]
  },
  {
   "cell_type": "code",
   "execution_count": 18,
   "metadata": {
    "collapsed": false
   },
   "outputs": [
    {
     "data": {
      "image/png": "[encoded data removed]",
      "text/plain": [
       "<matplotlib.figure.Figure at 0x2d50108d278>"
      ]
     },
     "metadata": {},
     "output_type": "display_data"
    },
    {
     "data": {
      "image/png": "[encoded data removed]",
      "text/plain": [
       "<matplotlib.figure.Figure at 0x2d50218a550>"
      ]
     },
     "metadata": {},
     "output_type": "display_data"
    }
   ],
   "source": [
    "#name varety (how part of female names and male names changes)\n",
    "\n",
    "table = top1000.pivot_table(top1000, index = ['year'], columns = 'gender', aggfunc = sum)\n",
    "plotting(years, table['prop']['F'], 'years', 'proportions', 'part births - girls')\n",
    "plotting(years, table['prop']['M'], 'years', 'proportions', 'part births - boys')"
   ]
  },
  {
   "cell_type": "code",
   "execution_count": 19,
   "metadata": {
    "collapsed": false
   },
   "outputs": [
    {
     "data": {
      "text/html": [
       "<div>\n",
       "<table border=\"1\" class=\"dataframe\">\n",
       "  <thead>\n",
       "    <tr>\n",
       "      <th></th>\n",
       "      <th colspan=\"2\" halign=\"left\">numbers</th>\n",
       "      <th colspan=\"2\" halign=\"left\">prop</th>\n",
       "    </tr>\n",
       "    <tr>\n",
       "      <th>gender</th>\n",
       "      <th>F</th>\n",
       "      <th>M</th>\n",
       "      <th>F</th>\n",
       "      <th>M</th>\n",
       "    </tr>\n",
       "    <tr>\n",
       "      <th>year</th>\n",
       "      <th></th>\n",
       "      <th></th>\n",
       "      <th></th>\n",
       "      <th></th>\n",
       "    </tr>\n",
       "  </thead>\n",
       "  <tbody>\n",
       "    <tr>\n",
       "      <th>1880</th>\n",
       "      <td>90992.0</td>\n",
       "      <td>110200.0</td>\n",
       "      <td>1.000000</td>\n",
       "      <td>0.997375</td>\n",
       "    </tr>\n",
       "    <tr>\n",
       "      <th>1881</th>\n",
       "      <td>91953.0</td>\n",
       "      <td>100743.0</td>\n",
       "      <td>1.000000</td>\n",
       "      <td>1.000000</td>\n",
       "    </tr>\n",
       "    <tr>\n",
       "      <th>1882</th>\n",
       "      <td>107708.0</td>\n",
       "      <td>113191.0</td>\n",
       "      <td>0.998702</td>\n",
       "      <td>0.995646</td>\n",
       "    </tr>\n",
       "    <tr>\n",
       "      <th>1883</th>\n",
       "      <td>112048.0</td>\n",
       "      <td>104477.0</td>\n",
       "      <td>0.997596</td>\n",
       "      <td>0.998566</td>\n",
       "    </tr>\n",
       "    <tr>\n",
       "      <th>1884</th>\n",
       "      <td>128137.0</td>\n",
       "      <td>113818.0</td>\n",
       "      <td>0.993156</td>\n",
       "      <td>0.994539</td>\n",
       "    </tr>\n",
       "  </tbody>\n",
       "</table>\n",
       "</div>"
      ],
      "text/plain": [
       "         numbers                prop          \n",
       "gender         F         M         F         M\n",
       "year                                          \n",
       "1880     90992.0  110200.0  1.000000  0.997375\n",
       "1881     91953.0  100743.0  1.000000  1.000000\n",
       "1882    107708.0  113191.0  0.998702  0.995646\n",
       "1883    112048.0  104477.0  0.997596  0.998566\n",
       "1884    128137.0  113818.0  0.993156  0.994539"
      ]
     },
     "execution_count": 19,
     "metadata": {},
     "output_type": "execute_result"
    }
   ],
   "source": [
    "table.head()"
   ]
  },
  {
   "cell_type": "code",
   "execution_count": 20,
   "metadata": {
    "collapsed": false
   },
   "outputs": [
    {
     "data": {
      "text/plain": [
       "array([116], dtype=int64)"
      ]
     },
     "execution_count": 20,
     "metadata": {},
     "output_type": "execute_result"
    }
   ],
   "source": [
    "#position of 50% most popular names at 2010\n",
    "\n",
    "df2010 = boys[boys.year == 2010]\n",
    "prop_cumsum = df2010.sort_values(by = 'prop', ascending = False).prop.cumsum()\n",
    "prop_cumsum.searchsorted(0.5)"
   ]
  },
  {
   "cell_type": "code",
   "execution_count": 21,
   "metadata": {
    "collapsed": false
   },
   "outputs": [
    {
     "data": {
      "text/plain": [
       "array([24], dtype=int64)"
      ]
     },
     "execution_count": 21,
     "metadata": {},
     "output_type": "execute_result"
    }
   ],
   "source": [
    "#position of 50% most popular names at 1900\n",
    "\n",
    "df1900 = boys[boys.year == 1900]\n",
    "prop_cumsum = df1900.sort_values(by = 'prop', ascending = False).prop.cumsum()\n",
    "prop_cumsum.searchsorted(0.5)"
   ]
  },
  {
   "cell_type": "code",
   "execution_count": 22,
   "metadata": {
    "collapsed": true
   },
   "outputs": [],
   "source": [
    "def get_quantile_count(group, q = 0.5) :\n",
    "    group = group.sort_values(by = 'prop', ascending = False)\n",
    "    return group.prop.cumsum().searchsorted(0.5) + 1\n",
    "\n",
    "diversity = top1000.groupby(['year', 'gender']).apply(get_quantile_count)\n",
    "diversity = diversity.unstack('gender')"
   ]
  },
  {
   "cell_type": "code",
   "execution_count": 27,
   "metadata": {
    "collapsed": false
   },
   "outputs": [
    {
     "data": {
      "text/plain": [
       "year\n",
       "1880    [38]\n",
       "1881    [38]\n",
       "1882    [38]\n",
       "1883    [39]\n",
       "1884    [39]\n",
       "1885    [40]\n",
       "1886    [41]\n",
       "1887    [41]\n",
       "1888    [42]\n",
       "1889    [43]\n",
       "Name: F, dtype: object"
      ]
     },
     "execution_count": 27,
     "metadata": {},
     "output_type": "execute_result"
    }
   ],
   "source": [
    "diversity['F'].head(10)"
   ]
  },
  {
   "cell_type": "code",
   "execution_count": 30,
   "metadata": {
    "collapsed": false
   },
   "outputs": [],
   "source": [
    "plotting(years, diversity['F'], 'year', 'names', 'number of popular female names in top 50%')"
   ]
  },
  {
   "cell_type": "code",
   "execution_count": 29,
   "metadata": {
    "collapsed": true
   },
   "outputs": [],
   "source": [
    "plotting(years, diversity['M'], 'year', 'names', 'number of popular male names in top 50%')"
   ]
  },
  {
   "cell_type": "code",
   "execution_count": 53,
   "metadata": {
    "collapsed": false
   },
   "outputs": [],
   "source": [
    "#last letter revolution\n",
    "\n",
    "get_last_letter = lambda x : x[-1]\n",
    "last_letters = names.name.map(get_last_letter)\n",
    "last_letters.name = 'last letter'\n",
    "\n",
    "table = names.pivot_table(names, index = last_letters, columns = ['gender', 'year'], aggfunc = sum)"
   ]
  },
  {
   "cell_type": "code",
   "execution_count": 56,
   "metadata": {
    "collapsed": false
   },
   "outputs": [
    {
     "data": {
      "text/html": [
       "<div>\n",
       "<table border=\"1\" class=\"dataframe\">\n",
       "  <thead>\n",
       "    <tr>\n",
       "      <th></th>\n",
       "      <th colspan=\"10\" halign=\"left\">numbers</th>\n",
       "      <th>...</th>\n",
       "      <th colspan=\"10\" halign=\"left\">prop</th>\n",
       "    </tr>\n",
       "    <tr>\n",
       "      <th>gender</th>\n",
       "      <th colspan=\"10\" halign=\"left\">F</th>\n",
       "      <th>...</th>\n",
       "      <th colspan=\"10\" halign=\"left\">M</th>\n",
       "    </tr>\n",
       "    <tr>\n",
       "      <th>year</th>\n",
       "      <th>1880</th>\n",
       "      <th>1881</th>\n",
       "      <th>1882</th>\n",
       "      <th>1883</th>\n",
       "      <th>1884</th>\n",
       "      <th>1885</th>\n",
       "      <th>1886</th>\n",
       "      <th>1887</th>\n",
       "      <th>1888</th>\n",
       "      <th>1889</th>\n",
       "      <th>...</th>\n",
       "      <th>2006</th>\n",
       "      <th>2007</th>\n",
       "      <th>2008</th>\n",
       "      <th>2009</th>\n",
       "      <th>2010</th>\n",
       "      <th>2011</th>\n",
       "      <th>2012</th>\n",
       "      <th>2013</th>\n",
       "      <th>2014</th>\n",
       "      <th>2015</th>\n",
       "    </tr>\n",
       "    <tr>\n",
       "      <th>last letter</th>\n",
       "      <th></th>\n",
       "      <th></th>\n",
       "      <th></th>\n",
       "      <th></th>\n",
       "      <th></th>\n",
       "      <th></th>\n",
       "      <th></th>\n",
       "      <th></th>\n",
       "      <th></th>\n",
       "      <th></th>\n",
       "      <th></th>\n",
       "      <th></th>\n",
       "      <th></th>\n",
       "      <th></th>\n",
       "      <th></th>\n",
       "      <th></th>\n",
       "      <th></th>\n",
       "      <th></th>\n",
       "      <th></th>\n",
       "      <th></th>\n",
       "      <th></th>\n",
       "    </tr>\n",
       "  </thead>\n",
       "  <tbody>\n",
       "    <tr>\n",
       "      <th>a</th>\n",
       "      <td>31446.0</td>\n",
       "      <td>31581.0</td>\n",
       "      <td>36536.0</td>\n",
       "      <td>38329.0</td>\n",
       "      <td>43680.0</td>\n",
       "      <td>45408.0</td>\n",
       "      <td>49100.0</td>\n",
       "      <td>48942.0</td>\n",
       "      <td>59441.0</td>\n",
       "      <td>58631.0</td>\n",
       "      <td>...</td>\n",
       "      <td>0.017644</td>\n",
       "      <td>0.016760</td>\n",
       "      <td>0.016200</td>\n",
       "      <td>0.015953</td>\n",
       "      <td>0.015061</td>\n",
       "      <td>0.014467</td>\n",
       "      <td>0.014367</td>\n",
       "      <td>0.014517</td>\n",
       "      <td>0.014740</td>\n",
       "      <td>0.015130</td>\n",
       "    </tr>\n",
       "    <tr>\n",
       "      <th>b</th>\n",
       "      <td>NaN</td>\n",
       "      <td>NaN</td>\n",
       "      <td>NaN</td>\n",
       "      <td>NaN</td>\n",
       "      <td>NaN</td>\n",
       "      <td>NaN</td>\n",
       "      <td>NaN</td>\n",
       "      <td>NaN</td>\n",
       "      <td>NaN</td>\n",
       "      <td>NaN</td>\n",
       "      <td>...</td>\n",
       "      <td>0.020780</td>\n",
       "      <td>0.020365</td>\n",
       "      <td>0.019667</td>\n",
       "      <td>0.019726</td>\n",
       "      <td>0.020489</td>\n",
       "      <td>0.019340</td>\n",
       "      <td>0.018327</td>\n",
       "      <td>0.017596</td>\n",
       "      <td>0.016354</td>\n",
       "      <td>0.015460</td>\n",
       "    </tr>\n",
       "    <tr>\n",
       "      <th>c</th>\n",
       "      <td>NaN</td>\n",
       "      <td>NaN</td>\n",
       "      <td>5.0</td>\n",
       "      <td>5.0</td>\n",
       "      <td>NaN</td>\n",
       "      <td>NaN</td>\n",
       "      <td>NaN</td>\n",
       "      <td>NaN</td>\n",
       "      <td>NaN</td>\n",
       "      <td>NaN</td>\n",
       "      <td>...</td>\n",
       "      <td>0.012990</td>\n",
       "      <td>0.012978</td>\n",
       "      <td>0.012458</td>\n",
       "      <td>0.012192</td>\n",
       "      <td>0.012183</td>\n",
       "      <td>0.012194</td>\n",
       "      <td>0.012818</td>\n",
       "      <td>0.012745</td>\n",
       "      <td>0.012424</td>\n",
       "      <td>0.012089</td>\n",
       "    </tr>\n",
       "    <tr>\n",
       "      <th>d</th>\n",
       "      <td>609.0</td>\n",
       "      <td>607.0</td>\n",
       "      <td>734.0</td>\n",
       "      <td>810.0</td>\n",
       "      <td>916.0</td>\n",
       "      <td>862.0</td>\n",
       "      <td>1007.0</td>\n",
       "      <td>1027.0</td>\n",
       "      <td>1298.0</td>\n",
       "      <td>1374.0</td>\n",
       "      <td>...</td>\n",
       "      <td>0.025080</td>\n",
       "      <td>0.024465</td>\n",
       "      <td>0.023583</td>\n",
       "      <td>0.023396</td>\n",
       "      <td>0.023388</td>\n",
       "      <td>0.022797</td>\n",
       "      <td>0.022427</td>\n",
       "      <td>0.022610</td>\n",
       "      <td>0.022974</td>\n",
       "      <td>0.022909</td>\n",
       "    </tr>\n",
       "    <tr>\n",
       "      <th>e</th>\n",
       "      <td>33380.0</td>\n",
       "      <td>34080.0</td>\n",
       "      <td>40399.0</td>\n",
       "      <td>41912.0</td>\n",
       "      <td>48089.0</td>\n",
       "      <td>49616.0</td>\n",
       "      <td>53884.0</td>\n",
       "      <td>54352.0</td>\n",
       "      <td>66749.0</td>\n",
       "      <td>66662.0</td>\n",
       "      <td>...</td>\n",
       "      <td>0.069735</td>\n",
       "      <td>0.069454</td>\n",
       "      <td>0.069359</td>\n",
       "      <td>0.068643</td>\n",
       "      <td>0.067966</td>\n",
       "      <td>0.067909</td>\n",
       "      <td>0.067835</td>\n",
       "      <td>0.070012</td>\n",
       "      <td>0.068909</td>\n",
       "      <td>0.067244</td>\n",
       "    </tr>\n",
       "  </tbody>\n",
       "</table>\n",
       "<p>5 rows × 544 columns</p>\n",
       "</div>"
      ],
      "text/plain": [
       "             numbers                                                        \\\n",
       "gender             F                                                         \n",
       "year            1880     1881     1882     1883     1884     1885     1886   \n",
       "last letter                                                                  \n",
       "a            31446.0  31581.0  36536.0  38329.0  43680.0  45408.0  49100.0   \n",
       "b                NaN      NaN      NaN      NaN      NaN      NaN      NaN   \n",
       "c                NaN      NaN      5.0      5.0      NaN      NaN      NaN   \n",
       "d              609.0    607.0    734.0    810.0    916.0    862.0   1007.0   \n",
       "e            33380.0  34080.0  40399.0  41912.0  48089.0  49616.0  53884.0   \n",
       "\n",
       "                                          ...         prop            \\\n",
       "gender                                    ...            M             \n",
       "year            1887     1888     1889    ...         2006      2007   \n",
       "last letter                               ...                          \n",
       "a            48942.0  59441.0  58631.0    ...     0.017644  0.016760   \n",
       "b                NaN      NaN      NaN    ...     0.020780  0.020365   \n",
       "c                NaN      NaN      NaN    ...     0.012990  0.012978   \n",
       "d             1027.0   1298.0   1374.0    ...     0.025080  0.024465   \n",
       "e            54352.0  66749.0  66662.0    ...     0.069735  0.069454   \n",
       "\n",
       "                                                                         \\\n",
       "gender                                                                    \n",
       "year             2008      2009      2010      2011      2012      2013   \n",
       "last letter                                                               \n",
       "a            0.016200  0.015953  0.015061  0.014467  0.014367  0.014517   \n",
       "b            0.019667  0.019726  0.020489  0.019340  0.018327  0.017596   \n",
       "c            0.012458  0.012192  0.012183  0.012194  0.012818  0.012745   \n",
       "d            0.023583  0.023396  0.023388  0.022797  0.022427  0.022610   \n",
       "e            0.069359  0.068643  0.067966  0.067909  0.067835  0.070012   \n",
       "\n",
       "                                 \n",
       "gender                           \n",
       "year             2014      2015  \n",
       "last letter                      \n",
       "a            0.014740  0.015130  \n",
       "b            0.016354  0.015460  \n",
       "c            0.012424  0.012089  \n",
       "d            0.022974  0.022909  \n",
       "e            0.068909  0.067244  \n",
       "\n",
       "[5 rows x 544 columns]"
      ]
     },
     "execution_count": 56,
     "metadata": {},
     "output_type": "execute_result"
    }
   ],
   "source": [
    "table.head()"
   ]
  },
  {
   "cell_type": "code",
   "execution_count": 55,
   "metadata": {
    "collapsed": false
   },
   "outputs": [
    {
     "data": {
      "text/html": [
       "<div>\n",
       "<table border=\"1\" class=\"dataframe\">\n",
       "  <thead>\n",
       "    <tr>\n",
       "      <th></th>\n",
       "      <th colspan=\"6\" halign=\"left\">numbers</th>\n",
       "      <th colspan=\"6\" halign=\"left\">prop</th>\n",
       "    </tr>\n",
       "    <tr>\n",
       "      <th>gender</th>\n",
       "      <th colspan=\"3\" halign=\"left\">F</th>\n",
       "      <th colspan=\"3\" halign=\"left\">M</th>\n",
       "      <th colspan=\"3\" halign=\"left\">F</th>\n",
       "      <th colspan=\"3\" halign=\"left\">M</th>\n",
       "    </tr>\n",
       "    <tr>\n",
       "      <th>year</th>\n",
       "      <th>1910</th>\n",
       "      <th>1960</th>\n",
       "      <th>2010</th>\n",
       "      <th>1910</th>\n",
       "      <th>1960</th>\n",
       "      <th>2010</th>\n",
       "      <th>1910</th>\n",
       "      <th>1960</th>\n",
       "      <th>2010</th>\n",
       "      <th>1910</th>\n",
       "      <th>1960</th>\n",
       "      <th>2010</th>\n",
       "    </tr>\n",
       "    <tr>\n",
       "      <th>last letter</th>\n",
       "      <th></th>\n",
       "      <th></th>\n",
       "      <th></th>\n",
       "      <th></th>\n",
       "      <th></th>\n",
       "      <th></th>\n",
       "      <th></th>\n",
       "      <th></th>\n",
       "      <th></th>\n",
       "      <th></th>\n",
       "      <th></th>\n",
       "      <th></th>\n",
       "    </tr>\n",
       "  </thead>\n",
       "  <tbody>\n",
       "    <tr>\n",
       "      <th>a</th>\n",
       "      <td>108398.0</td>\n",
       "      <td>691271.0</td>\n",
       "      <td>676151.0</td>\n",
       "      <td>977.0</td>\n",
       "      <td>5212.0</td>\n",
       "      <td>28837.0</td>\n",
       "      <td>0.273385</td>\n",
       "      <td>0.341854</td>\n",
       "      <td>0.381265</td>\n",
       "      <td>0.005030</td>\n",
       "      <td>0.002444</td>\n",
       "      <td>0.015061</td>\n",
       "    </tr>\n",
       "    <tr>\n",
       "      <th>b</th>\n",
       "      <td>NaN</td>\n",
       "      <td>694.0</td>\n",
       "      <td>454.0</td>\n",
       "      <td>411.0</td>\n",
       "      <td>3912.0</td>\n",
       "      <td>39229.0</td>\n",
       "      <td>NaN</td>\n",
       "      <td>0.000343</td>\n",
       "      <td>0.000256</td>\n",
       "      <td>0.002116</td>\n",
       "      <td>0.001834</td>\n",
       "      <td>0.020489</td>\n",
       "    </tr>\n",
       "    <tr>\n",
       "      <th>c</th>\n",
       "      <td>5.0</td>\n",
       "      <td>49.0</td>\n",
       "      <td>954.0</td>\n",
       "      <td>482.0</td>\n",
       "      <td>15463.0</td>\n",
       "      <td>23325.0</td>\n",
       "      <td>0.000013</td>\n",
       "      <td>0.000024</td>\n",
       "      <td>0.000538</td>\n",
       "      <td>0.002482</td>\n",
       "      <td>0.007250</td>\n",
       "      <td>0.012183</td>\n",
       "    </tr>\n",
       "    <tr>\n",
       "      <th>d</th>\n",
       "      <td>6751.0</td>\n",
       "      <td>3728.0</td>\n",
       "      <td>2635.0</td>\n",
       "      <td>22113.0</td>\n",
       "      <td>262168.0</td>\n",
       "      <td>44780.0</td>\n",
       "      <td>0.017026</td>\n",
       "      <td>0.001844</td>\n",
       "      <td>0.001486</td>\n",
       "      <td>0.113858</td>\n",
       "      <td>0.122925</td>\n",
       "      <td>0.023388</td>\n",
       "    </tr>\n",
       "    <tr>\n",
       "      <th>e</th>\n",
       "      <td>133601.0</td>\n",
       "      <td>435056.0</td>\n",
       "      <td>316425.0</td>\n",
       "      <td>28665.0</td>\n",
       "      <td>178817.0</td>\n",
       "      <td>130130.0</td>\n",
       "      <td>0.336948</td>\n",
       "      <td>0.215148</td>\n",
       "      <td>0.178424</td>\n",
       "      <td>0.147593</td>\n",
       "      <td>0.083843</td>\n",
       "      <td>0.067966</td>\n",
       "    </tr>\n",
       "  </tbody>\n",
       "</table>\n",
       "</div>"
      ],
      "text/plain": [
       "              numbers                                                   \\\n",
       "gender              F                            M                       \n",
       "year             1910      1960      2010     1910      1960      2010   \n",
       "last letter                                                              \n",
       "a            108398.0  691271.0  676151.0    977.0    5212.0   28837.0   \n",
       "b                 NaN     694.0     454.0    411.0    3912.0   39229.0   \n",
       "c                 5.0      49.0     954.0    482.0   15463.0   23325.0   \n",
       "d              6751.0    3728.0    2635.0  22113.0  262168.0   44780.0   \n",
       "e            133601.0  435056.0  316425.0  28665.0  178817.0  130130.0   \n",
       "\n",
       "                 prop                                                    \n",
       "gender              F                             M                      \n",
       "year             1910      1960      2010      1910      1960      2010  \n",
       "last letter                                                              \n",
       "a            0.273385  0.341854  0.381265  0.005030  0.002444  0.015061  \n",
       "b                 NaN  0.000343  0.000256  0.002116  0.001834  0.020489  \n",
       "c            0.000013  0.000024  0.000538  0.002482  0.007250  0.012183  \n",
       "d            0.017026  0.001844  0.001486  0.113858  0.122925  0.023388  \n",
       "e            0.336948  0.215148  0.178424  0.147593  0.083843  0.067966  "
      ]
     },
     "execution_count": 55,
     "metadata": {},
     "output_type": "execute_result"
    }
   ],
   "source": [
    "subtable = table.reindex(columns = [1910, 1960, 2010], level = 'year')\n",
    "subtable.head()"
   ]
  },
  {
   "cell_type": "code",
   "execution_count": 77,
   "metadata": {
    "collapsed": false
   },
   "outputs": [
    {
     "data": {
      "text/plain": [
       "         gender  year\n",
       "numbers  F       1910     396503.0\n",
       "                 1960    2022121.0\n",
       "                 2010    1773440.0\n",
       "         M       1910     194216.0\n",
       "                 1960    2132756.0\n",
       "                 2010    1914629.0\n",
       "prop     F       1910          1.0\n",
       "                 1960          1.0\n",
       "                 2010          1.0\n",
       "         M       1910          1.0\n",
       "                 1960          1.0\n",
       "                 2010          1.0\n",
       "dtype: float64"
      ]
     },
     "execution_count": 77,
     "metadata": {},
     "output_type": "execute_result"
    }
   ],
   "source": [
    "#part of names with the letter among all names for each pair gender-year\n",
    "\n",
    "subtable.sum()"
   ]
  },
  {
   "cell_type": "code",
   "execution_count": 78,
   "metadata": {
    "collapsed": false
   },
   "outputs": [
    {
     "data": {
      "text/html": [
       "<div>\n",
       "<table border=\"1\" class=\"dataframe\">\n",
       "  <thead>\n",
       "    <tr>\n",
       "      <th>gender</th>\n",
       "      <th colspan=\"3\" halign=\"left\">F</th>\n",
       "      <th colspan=\"3\" halign=\"left\">M</th>\n",
       "    </tr>\n",
       "    <tr>\n",
       "      <th>year</th>\n",
       "      <th>1910</th>\n",
       "      <th>1960</th>\n",
       "      <th>2010</th>\n",
       "      <th>1910</th>\n",
       "      <th>1960</th>\n",
       "      <th>2010</th>\n",
       "    </tr>\n",
       "    <tr>\n",
       "      <th>last letter</th>\n",
       "      <th></th>\n",
       "      <th></th>\n",
       "      <th></th>\n",
       "      <th></th>\n",
       "      <th></th>\n",
       "      <th></th>\n",
       "    </tr>\n",
       "  </thead>\n",
       "  <tbody>\n",
       "    <tr>\n",
       "      <th>a</th>\n",
       "      <td>0.273385</td>\n",
       "      <td>0.341854</td>\n",
       "      <td>0.381265</td>\n",
       "      <td>0.005030</td>\n",
       "      <td>0.002444</td>\n",
       "      <td>0.015061</td>\n",
       "    </tr>\n",
       "    <tr>\n",
       "      <th>b</th>\n",
       "      <td>NaN</td>\n",
       "      <td>0.000343</td>\n",
       "      <td>0.000256</td>\n",
       "      <td>0.002116</td>\n",
       "      <td>0.001834</td>\n",
       "      <td>0.020489</td>\n",
       "    </tr>\n",
       "    <tr>\n",
       "      <th>c</th>\n",
       "      <td>0.000013</td>\n",
       "      <td>0.000024</td>\n",
       "      <td>0.000538</td>\n",
       "      <td>0.002482</td>\n",
       "      <td>0.007250</td>\n",
       "      <td>0.012183</td>\n",
       "    </tr>\n",
       "    <tr>\n",
       "      <th>d</th>\n",
       "      <td>0.017026</td>\n",
       "      <td>0.001844</td>\n",
       "      <td>0.001486</td>\n",
       "      <td>0.113858</td>\n",
       "      <td>0.122925</td>\n",
       "      <td>0.023388</td>\n",
       "    </tr>\n",
       "    <tr>\n",
       "      <th>e</th>\n",
       "      <td>0.336948</td>\n",
       "      <td>0.215148</td>\n",
       "      <td>0.178424</td>\n",
       "      <td>0.147593</td>\n",
       "      <td>0.083843</td>\n",
       "      <td>0.067966</td>\n",
       "    </tr>\n",
       "  </tbody>\n",
       "</table>\n",
       "</div>"
      ],
      "text/plain": [
       "gender              F                             M                    \n",
       "year             1910      1960      2010      1910      1960      2010\n",
       "last letter                                                            \n",
       "a            0.273385  0.341854  0.381265  0.005030  0.002444  0.015061\n",
       "b                 NaN  0.000343  0.000256  0.002116  0.001834  0.020489\n",
       "c            0.000013  0.000024  0.000538  0.002482  0.007250  0.012183\n",
       "d            0.017026  0.001844  0.001486  0.113858  0.122925  0.023388\n",
       "e            0.336948  0.215148  0.178424  0.147593  0.083843  0.067966"
      ]
     },
     "execution_count": 78,
     "metadata": {},
     "output_type": "execute_result"
    }
   ],
   "source": [
    "letter_prop = subtable/subtable.sum().astype(float)\n",
    "letter_prop['numbers'].head()"
   ]
  },
  {
   "cell_type": "code",
   "execution_count": 71,
   "metadata": {
    "collapsed": false
   },
   "outputs": [],
   "source": [
    "fig, axes = plt.subplots(2, 1, figsize = (10, 8))\n",
    "ch1 = letter_prop['numbers']['M'].plot(kind = 'bar', rot = 0, ax = axes[0], title = 'Male')\n",
    "ch2 = letter_prop['numbers']['F'].plot(kind = 'bar', rot = 0, ax = axes[1], title = 'Female', legend = False)\n",
    "plt.show()"
   ]
  },
  {
   "cell_type": "code",
   "execution_count": 81,
   "metadata": {
    "collapsed": false
   },
   "outputs": [
    {
     "data": {
      "text/html": [
       "<div>\n",
       "<table border=\"1\" class=\"dataframe\">\n",
       "  <thead>\n",
       "    <tr style=\"text-align: right;\">\n",
       "      <th>last letter</th>\n",
       "      <th>d</th>\n",
       "      <th>n</th>\n",
       "      <th>y</th>\n",
       "    </tr>\n",
       "    <tr>\n",
       "      <th>year</th>\n",
       "      <th></th>\n",
       "      <th></th>\n",
       "      <th></th>\n",
       "    </tr>\n",
       "  </thead>\n",
       "  <tbody>\n",
       "    <tr>\n",
       "      <th>1880</th>\n",
       "      <td>0.083057</td>\n",
       "      <td>0.153217</td>\n",
       "      <td>0.075763</td>\n",
       "    </tr>\n",
       "    <tr>\n",
       "      <th>1881</th>\n",
       "      <td>0.083242</td>\n",
       "      <td>0.153212</td>\n",
       "      <td>0.077455</td>\n",
       "    </tr>\n",
       "    <tr>\n",
       "      <th>1882</th>\n",
       "      <td>0.085332</td>\n",
       "      <td>0.149561</td>\n",
       "      <td>0.077538</td>\n",
       "    </tr>\n",
       "    <tr>\n",
       "      <th>1883</th>\n",
       "      <td>0.084051</td>\n",
       "      <td>0.151653</td>\n",
       "      <td>0.079148</td>\n",
       "    </tr>\n",
       "    <tr>\n",
       "      <th>1884</th>\n",
       "      <td>0.086121</td>\n",
       "      <td>0.149926</td>\n",
       "      <td>0.080407</td>\n",
       "    </tr>\n",
       "  </tbody>\n",
       "</table>\n",
       "</div>"
      ],
      "text/plain": [
       "last letter         d         n         y\n",
       "year                                     \n",
       "1880         0.083057  0.153217  0.075763\n",
       "1881         0.083242  0.153212  0.077455\n",
       "1882         0.085332  0.149561  0.077538\n",
       "1883         0.084051  0.151653  0.079148\n",
       "1884         0.086121  0.149926  0.080407"
      ]
     },
     "execution_count": 81,
     "metadata": {},
     "output_type": "execute_result"
    }
   ],
   "source": [
    "letter_prop = table/table.sum().astype(float)\n",
    "dny_ts = letter_prop['numbers'].ix[['d', 'n', 'y'], 'M'].T\n",
    "dny_ts.head()"
   ]
  },
  {
   "cell_type": "code",
   "execution_count": 83,
   "metadata": {
    "collapsed": false
   },
   "outputs": [],
   "source": [
    "dny_ts.plot()\n",
    "plt.show()"
   ]
  },
  {
   "cell_type": "code",
   "execution_count": 85,
   "metadata": {
    "collapsed": false
   },
   "outputs": [],
   "source": [
    "# female names become male and conversely\n",
    "\n",
    "all_names = top1000.name.unique()\n",
    "mask = np.array(['lesl' in x.lower() for x in all_names])\n",
    "\n",
    "lesley_like = all_names[mask]"
   ]
  },
  {
   "cell_type": "code",
   "execution_count": 91,
   "metadata": {
    "collapsed": false
   },
   "outputs": [
    {
     "data": {
      "text/plain": [
       "array(['Leslie', 'Lesley', 'Leslee', 'Lesli', 'Lesly'], dtype=object)"
      ]
     },
     "execution_count": 91,
     "metadata": {},
     "output_type": "execute_result"
    }
   ],
   "source": [
    "lesley_like "
   ]
  },
  {
   "cell_type": "code",
   "execution_count": 92,
   "metadata": {
    "collapsed": false
   },
   "outputs": [],
   "source": [
    "filtered = top1000[top1000.name.isin(lesley_like )]"
   ]
  },
  {
   "cell_type": "code",
   "execution_count": 95,
   "metadata": {
    "collapsed": false
   },
   "outputs": [
    {
     "data": {
      "text/plain": [
       "name\n",
       "Leslee       993\n",
       "Lesley     35032\n",
       "Lesli        929\n",
       "Leslie    376034\n",
       "Lesly      11431\n",
       "Name: numbers, dtype: int64"
      ]
     },
     "execution_count": 95,
     "metadata": {},
     "output_type": "execute_result"
    }
   ],
   "source": [
    "filtered.groupby('name').numbers.sum()"
   ]
  },
  {
   "cell_type": "code",
   "execution_count": 98,
   "metadata": {
    "collapsed": false
   },
   "outputs": [
    {
     "data": {
      "text/html": [
       "<div>\n",
       "<table border=\"1\" class=\"dataframe\">\n",
       "  <thead>\n",
       "    <tr style=\"text-align: right;\">\n",
       "      <th>gender</th>\n",
       "      <th>F</th>\n",
       "      <th>M</th>\n",
       "    </tr>\n",
       "    <tr>\n",
       "      <th>year</th>\n",
       "      <th></th>\n",
       "      <th></th>\n",
       "    </tr>\n",
       "  </thead>\n",
       "  <tbody>\n",
       "    <tr>\n",
       "      <th>2011</th>\n",
       "      <td>0.999999</td>\n",
       "      <td>NaN</td>\n",
       "    </tr>\n",
       "    <tr>\n",
       "      <th>2012</th>\n",
       "      <td>0.999999</td>\n",
       "      <td>NaN</td>\n",
       "    </tr>\n",
       "    <tr>\n",
       "      <th>2013</th>\n",
       "      <td>0.999999</td>\n",
       "      <td>NaN</td>\n",
       "    </tr>\n",
       "    <tr>\n",
       "      <th>2014</th>\n",
       "      <td>0.999999</td>\n",
       "      <td>NaN</td>\n",
       "    </tr>\n",
       "    <tr>\n",
       "      <th>2015</th>\n",
       "      <td>0.999999</td>\n",
       "      <td>NaN</td>\n",
       "    </tr>\n",
       "  </tbody>\n",
       "</table>\n",
       "</div>"
      ],
      "text/plain": [
       "gender         F   M\n",
       "year                \n",
       "2011    0.999999 NaN\n",
       "2012    0.999999 NaN\n",
       "2013    0.999999 NaN\n",
       "2014    0.999999 NaN\n",
       "2015    0.999999 NaN"
      ]
     },
     "execution_count": 98,
     "metadata": {},
     "output_type": "execute_result"
    }
   ],
   "source": [
    "table = filtered.pivot_table(filtered, index = 'year', columns = ['gender'], aggfunc = sum)\n",
    "table = table.div(table.sum(1), axis = 0)\n",
    "table['numbers'].tail()"
   ]
  },
  {
   "cell_type": "code",
   "execution_count": null,
   "metadata": {
    "collapsed": true
   },
   "outputs": [],
   "source": [
    "table['numbers'].plot(style={'M': 'k-', 'F': 'k--'})\n",
    "plt.show()"
   ]
  },
  {
   "cell_type": "code",
   "execution_count": null,
   "metadata": {
    "collapsed": true
   },
   "outputs": [],
   "source": []
  }
 ],
 "metadata": {
  "anaconda-cloud": {},
  "kernelspec": {
   "display_name": "Python [Root]",
   "language": "python",
   "name": "Python [Root]"
  },
  "language_info": {
   "codemirror_mode": {
    "name": "ipython",
    "version": 3
   },
   "file_extension": ".py",
   "mimetype": "text/x-python",
   "name": "python",
   "nbconvert_exporter": "python",
   "pygments_lexer": "ipython3",
   "version": "3.5.2"
  }
 },
 "nbformat": 4,
 "nbformat_minor": 0
}
